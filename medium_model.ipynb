{
 "cells": [
  {
   "cell_type": "code",
   "execution_count": 1,
   "id": "5548f121",
   "metadata": {},
   "outputs": [],
   "source": [
    "import spacy\n",
    "import numpy as np"
   ]
  },
  {
   "cell_type": "code",
   "execution_count": 2,
   "id": "970e0c04",
   "metadata": {},
   "outputs": [],
   "source": [
    "nlp = spacy.load(\"en_core_web_md\")"
   ]
  },
  {
   "cell_type": "code",
   "execution_count": 3,
   "id": "677c64a9",
   "metadata": {},
   "outputs": [],
   "source": [
    "with open (\"texts/italy.txt\", \"r\") as f:\n",
    "    text = f.read()"
   ]
  },
  {
   "cell_type": "code",
   "execution_count": 4,
   "id": "c4ab2dce",
   "metadata": {},
   "outputs": [],
   "source": [
    "doc = nlp(text)\n",
    "sentence1 = list(doc.sents)[0] "
   ]
  },
  {
   "cell_type": "code",
   "execution_count": 5,
   "id": "114a04b5",
   "metadata": {},
   "outputs": [
    {
     "name": "stdout",
     "output_type": "stream",
     "text": [
      "There are few places in the world that evoke more wanderlust than Italy.\n",
      "\n",
      "\n"
     ]
    }
   ],
   "source": [
    "print(sentence1)"
   ]
  },
  {
   "cell_type": "code",
   "execution_count": 6,
   "id": "c0e839d1",
   "metadata": {},
   "outputs": [
    {
     "name": "stdout",
     "output_type": "stream",
     "text": [
      "['travelcard', 'Sikking', 'traversé', 'Yodelers', 'ravelry', 'trave', 'renouveler', 'Caravello', 'sojourned', 'Unraveled']\n"
     ]
    }
   ],
   "source": [
    "your_word = \"travel\"\n",
    "\n",
    "ms = nlp.vocab.vectors.most_similar(np.asarray([nlp.vocab.vectors[nlp.vocab.strings[your_word]]]), n=10)\n",
    "words = [nlp.vocab.strings[w] for w in ms[0][0]]\n",
    "distances = ms[2]\n",
    "print(words)"
   ]
  },
  {
   "cell_type": "code",
   "execution_count": 6,
   "id": "33114474",
   "metadata": {},
   "outputs": [],
   "source": [
    "doc1 = nlp(\"I really liked Italy, I want to go back there in the future.\")"
   ]
  },
  {
   "cell_type": "code",
   "execution_count": 8,
   "id": "d4bd2217",
   "metadata": {},
   "outputs": [],
   "source": [
    "doc2 = nlp(\"I want to go back Italy, I enjoyed my time there.\")"
   ]
  },
  {
   "cell_type": "code",
   "execution_count": 9,
   "id": "5b0609a1",
   "metadata": {},
   "outputs": [],
   "source": [
    "doc3 = nlp(\"I hated Italy when I was there, would not recommend going there.\")"
   ]
  },
  {
   "cell_type": "code",
   "execution_count": 10,
   "id": "24ce226b",
   "metadata": {},
   "outputs": [],
   "source": [
    "doc4 = nlp(\"Carla likes cars\")"
   ]
  },
  {
   "cell_type": "code",
   "execution_count": 11,
   "id": "f66b1922",
   "metadata": {},
   "outputs": [
    {
     "name": "stdout",
     "output_type": "stream",
     "text": [
      "I really liked Italy, I want to go back there in the future. <-> Carla likes cars 0.32018285018354126\n"
     ]
    }
   ],
   "source": [
    "print(doc1, \"<->\", doc4, doc1.similarity(doc4))"
   ]
  },
  {
   "cell_type": "code",
   "execution_count": 11,
   "id": "57476123",
   "metadata": {},
   "outputs": [
    {
     "name": "stdout",
     "output_type": "stream",
     "text": [
      "I really liked Italy, I want to go back there in the future. <-> I hated Italy when I was there, would not recommend going there. 0.9041630891809338\n"
     ]
    }
   ],
   "source": [
    "print(doc1, \"<->\", doc3, doc1.similarity(doc3))"
   ]
  },
  {
   "cell_type": "code",
   "execution_count": null,
   "id": "8b1d2199",
   "metadata": {},
   "outputs": [],
   "source": []
  }
 ],
 "metadata": {
  "kernelspec": {
   "display_name": "Python 3 (ipykernel)",
   "language": "python",
   "name": "python3"
  },
  "language_info": {
   "codemirror_mode": {
    "name": "ipython",
    "version": 3
   },
   "file_extension": ".py",
   "mimetype": "text/x-python",
   "name": "python",
   "nbconvert_exporter": "python",
   "pygments_lexer": "ipython3",
   "version": "3.9.6"
  }
 },
 "nbformat": 4,
 "nbformat_minor": 5
}
