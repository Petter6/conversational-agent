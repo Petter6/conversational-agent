{
 "cells": [
  {
   "cell_type": "code",
   "execution_count": 5,
   "metadata": {},
   "outputs": [],
   "source": [
    "import spacy\n",
    "from spacy.tokens.doc import Doc\n",
    "\n",
    "nlp = spacy.load(\"en_core_web_md\")"
   ]
  },
  {
   "cell_type": "code",
   "execution_count": 11,
   "metadata": {},
   "outputs": [
    {
     "data": {
      "text/plain": [
       "('CARDINAL',\n",
       " 'DATE',\n",
       " 'EVENT',\n",
       " 'FAC',\n",
       " 'GPE',\n",
       " 'LANGUAGE',\n",
       " 'LAW',\n",
       " 'LOC',\n",
       " 'MONEY',\n",
       " 'NORP',\n",
       " 'ORDINAL',\n",
       " 'ORG',\n",
       " 'PERCENT',\n",
       " 'PERSON',\n",
       " 'PRODUCT',\n",
       " 'QUANTITY',\n",
       " 'TIME',\n",
       " 'WORK_OF_ART')"
      ]
     },
     "execution_count": 11,
     "metadata": {},
     "output_type": "execute_result"
    }
   ],
   "source": [
    "nlp.get_pipe(\"ner\").labels"
   ]
  },
  {
   "cell_type": "code",
   "execution_count": 15,
   "metadata": {},
   "outputs": [],
   "source": [
    "stories = [\n",
    "    \"When I was as child I used to occasionally go to the Belgian coast.\",\n",
    "    \"Last Summer I visited Asia for the first time.\",\n",
    "    \"I have never been to the US before, but I want to visit it at least once.\",\n",
    "    \"When I was a child I went to Italy a few times.\",\n",
    "    \"I sometimes go to Portugal and chill on the beach.\",\n",
    "    \"I was at the beach in Blankenberge, a Belgian city, when I was 10.\",\n",
    "]\n",
    "\n",
    "episodes = [nlp(story) for story in stories]"
   ]
  },
  {
   "cell_type": "code",
   "execution_count": 13,
   "metadata": {},
   "outputs": [],
   "source": [
    "def extract_locations(episode: Doc):\n",
    "    for ent in episode.ents:\n",
    "        if ent.label_ in [\"GPE\", \"LOC\", \"DATE\", \"EVENT\"]:\n",
    "            print(ent.label_, ent)"
   ]
  },
  {
   "cell_type": "code",
   "execution_count": 16,
   "metadata": {},
   "outputs": [
    {
     "name": "stdout",
     "output_type": "stream",
     "text": [
      "When I was as child I used to occasionally go to the Belgian coast.\n",
      "---------------------------\n",
      "Last Summer I visited Asia for the first time.\n",
      "DATE Last Summer\n",
      "LOC Asia\n",
      "---------------------------\n",
      "I have never been to the US before, but I want to visit it at least once.\n",
      "GPE US\n",
      "---------------------------\n",
      "When I was a child I went to Italy a few times.\n",
      "GPE Italy\n",
      "---------------------------\n",
      "I sometimes go to Portugal and chill on the beach.\n",
      "GPE Portugal\n",
      "---------------------------\n",
      "I was at the beach in Blankenberge, a Belgian city, when I was 10.\n",
      "GPE Blankenberge\n",
      "DATE 10\n",
      "---------------------------\n",
      "I love Panama\n",
      "GPE Panama\n",
      "---------------------------\n"
     ]
    }
   ],
   "source": [
    "for episode in episodes:\n",
    "    print(episode)\n",
    "    extract_locations(episode)\n",
    "    print(\"---------------------------\")"
   ]
  }
 ],
 "metadata": {
  "kernelspec": {
   "display_name": "Python 3",
   "language": "python",
   "name": "python3"
  },
  "language_info": {
   "codemirror_mode": {
    "name": "ipython",
    "version": 3
   },
   "file_extension": ".py",
   "mimetype": "text/x-python",
   "name": "python",
   "nbconvert_exporter": "python",
   "pygments_lexer": "ipython3",
   "version": "3.11.0"
  }
 },
 "nbformat": 4,
 "nbformat_minor": 2
}
